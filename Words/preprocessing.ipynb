{
 "metadata": {
  "language_info": {
   "codemirror_mode": {
    "name": "ipython",
    "version": 3
   },
   "file_extension": ".py",
   "mimetype": "text/x-python",
   "name": "python",
   "nbconvert_exporter": "python",
   "pygments_lexer": "ipython3",
   "version": 3
  },
  "orig_nbformat": 2
 },
 "nbformat": 4,
 "nbformat_minor": 2,
 "cells": [
  {
   "source": [
    "<h1>Data Preprocessing</h1>\n",
    "\n",
    "The dataset for this project was downloaded from <a href='https://fki.tic.heia-fr.ch/databases/iam-handwriting-database'>FKI Computer Vision.</a>  It contains 115,000 labled images of handwritten words.  The raw download of this dataset is comprised of raw labled png images and a .txt lookup table."
   ],
   "cell_type": "markdown",
   "metadata": {}
  },
  {
   "source": [
    "<h2>Loading Dependancies</h2>"
   ],
   "cell_type": "markdown",
   "metadata": {}
  },
  {
   "source": [
    "import cv2\n",
    "import numpy\n",
    "import pandas as pd"
   ],
   "cell_type": "code",
   "metadata": {},
   "execution_count": null,
   "outputs": []
  }
 ]
}